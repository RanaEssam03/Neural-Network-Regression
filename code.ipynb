{
 "cells": [
  {
   "cell_type": "code",
   "execution_count": 27,
   "metadata": {},
   "outputs": [
    {
     "name": "stdout",
     "output_type": "stream",
     "text": [
      "   cement  water  superplasticizer  age  concrete_compressive_strength\n",
      "0   540.0  162.0               2.5   28                          79.99\n",
      "1   540.0  162.0               2.5   28                          61.89\n",
      "2   332.5  228.0               0.0  270                          40.27\n",
      "3   332.5  228.0               0.0  365                          41.05\n",
      "4   198.6  192.0               0.0  360                          44.30\n",
      "Headers: ['cement', 'water', 'superplasticizer', 'age', 'concrete_compressive_strength']\n",
      "Data shape: (700, 5)\n"
     ]
    }
   ],
   "source": [
    "import numpy as np\n",
    "import pandas as pd\n",
    "from sklearn.model_selection import train_test_split\n",
    "from sklearn.preprocessing import StandardScaler\n",
    "\n",
    "features_names = [\n",
    "    'cement', 'water', 'superplasticizer', 'age'   \n",
    "]\n",
    "target_name = 'concrete_compressive_strength'\n",
    "# Load the data\n",
    "data = pd.read_excel('concrete_data.xlsx')\n",
    "\n",
    "print(data.head())\n",
    "# Print the headers (column names)\n",
    "print(\"Headers:\", data.columns.tolist())\n",
    "\n",
    "print(\"Data shape:\", data.shape)\n"
   ]
  },
  {
   "cell_type": "code",
   "execution_count": 26,
   "metadata": {},
   "outputs": [
    {
     "name": "stdout",
     "output_type": "stream",
     "text": [
      "(525, 4) (175, 4) (525, 1) (175, 1)\n"
     ]
    }
   ],
   "source": [
    "x = data[features_names]\n",
    "y = data[target_name]\n",
    "\n",
    "scaller = StandardScaler()\n",
    "\n",
    "def normalize(data,columns, is_test=False):\n",
    "    if is_test:\n",
    "        data = scaller.transform(data)\n",
    "    else:\n",
    "        data = scaller.fit_transform(data)\n",
    "    return pd.DataFrame(data, columns=columns)\n",
    "        \n",
    "   \n",
    "x_train, x_test, y_train, y_test = train_test_split(x, y, test_size=0.25, random_state=42, shuffle=True)\n",
    "\n",
    "x_train = normalize(x_train, features_names)\n",
    "x_test = normalize(x_test, is_test=True, columns=features_names)\n",
    "y_train = normalize(y_train.values.reshape(-1, 1), columns=[target_name])\n",
    "y_test = normalize(y_test.values.reshape(-1, 1), is_test=True, columns=[target_name])\n",
    "\n",
    "print(x_train.shape, x_test.shape, y_train.shape, y_test.shape)\n"
   ]
  }
 ],
 "metadata": {
  "kernelspec": {
   "display_name": "Python 3 (ipykernel)",
   "language": "python",
   "name": "python3"
  },
  "language_info": {
   "codemirror_mode": {
    "name": "ipython",
    "version": 3
   },
   "file_extension": ".py",
   "mimetype": "text/x-python",
   "name": "python",
   "nbconvert_exporter": "python",
   "pygments_lexer": "ipython3",
   "version": "3.12.3"
  }
 },
 "nbformat": 4,
 "nbformat_minor": 2
}
