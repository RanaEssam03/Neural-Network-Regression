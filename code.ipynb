{
 "cells": [
  {
   "cell_type": "code",
   "execution_count": 1,
   "metadata": {},
   "outputs": [
    {
     "ename": "ModuleNotFoundError",
     "evalue": "No module named 'numpy'",
     "output_type": "error",
     "traceback": [
      "\u001b[0;31m---------------------------------------------------------------------------\u001b[0m",
      "\u001b[0;31mModuleNotFoundError\u001b[0m                       Traceback (most recent call last)",
      "Cell \u001b[0;32mIn[1], line 1\u001b[0m\n\u001b[0;32m----> 1\u001b[0m \u001b[38;5;28;01mimport\u001b[39;00m \u001b[38;5;21;01mnumpy\u001b[39;00m \u001b[38;5;28;01mas\u001b[39;00m \u001b[38;5;21;01mnp\u001b[39;00m\n\u001b[1;32m      2\u001b[0m \u001b[38;5;28;01mimport\u001b[39;00m \u001b[38;5;21;01mpandas\u001b[39;00m \u001b[38;5;28;01mas\u001b[39;00m \u001b[38;5;21;01mpd\u001b[39;00m\n\u001b[1;32m      3\u001b[0m \u001b[38;5;28;01mfrom\u001b[39;00m \u001b[38;5;21;01msklearn\u001b[39;00m\u001b[38;5;21;01m.\u001b[39;00m\u001b[38;5;21;01mmodel_selection\u001b[39;00m \u001b[38;5;28;01mimport\u001b[39;00m train_test_split\n",
      "\u001b[0;31mModuleNotFoundError\u001b[0m: No module named 'numpy'"
     ]
    }
   ],
   "source": [
    "import numpy as np\n",
    "import pandas as pd\n",
    "from sklearn.model_selection import train_test_split\n",
    "from sklearn.preprocessing import StandardScaler\n",
    "\n",
    "features_names = [\n",
    "    'cement', 'water', 'superplasticizer', 'age'   \n",
    "]\n",
    "target_name = 'concrete_compressive_strength'\n",
    "# Load the data\n",
    "data = pd.read_excel('concrete_data.xlsx')\n",
    "\n",
    "print(data.head())\n",
    "# Print the headers (column names)\n",
    "print(\"Headers:\", data.columns.tolist())\n",
    "\n",
    "print(\"Data shape:\", data.shape)\n"
   ]
  },
  {
   "cell_type": "code",
   "execution_count": null,
   "metadata": {},
   "outputs": [
    {
     "name": "stdout",
     "output_type": "stream",
     "text": [
      "(525, 4) (175, 4) (525, 1) (175, 1)\n"
     ]
    },
    {
     "data": {
      "text/plain": [
       "count    700.000000\n",
       "mean      37.642514\n",
       "std       17.607925\n",
       "min        2.330000\n",
       "25%       24.280000\n",
       "50%       36.615000\n",
       "75%       50.120000\n",
       "max       82.600000\n",
       "Name: concrete_compressive_strength, dtype: float64"
      ]
     },
     "execution_count": 28,
     "metadata": {},
     "output_type": "execute_result"
    }
   ],
   "source": [
    "x = data[features_names]\n",
    "y = data[target_name]\n",
    "\n",
    "scaller = StandardScaler()\n",
    "\n",
    "def normalize(data,columns, is_test=False):\n",
    "    if is_test:\n",
    "        data = scaller.transform(data)\n",
    "    else:\n",
    "        data = scaller.fit_transform(data)\n",
    "    return pd.DataFrame(data, columns=columns)\n",
    "      \n",
    "   \n",
    "x_train, x_test, y_train, y_test = train_test_split(x, y, test_size=0.25, random_state=42, shuffle=True)\n",
    "x_train = normalize(x_train, features_names)\n",
    "x_test = normalize(x_test, is_test=True, columns=features_names)\n",
    "y_train = normalize(y_train.values.reshape(-1, 1), columns=[target_name])\n",
    "y_test = normalize(y_test.values.reshape(-1, 1), is_test=True, columns=[target_name])\n",
    "\n",
    "print(x_train.shape, x_test.shape, y_train.shape, y_test.shape)\n"
   ]
  },
  {
   "cell_type": "code",
   "execution_count": 29,
   "metadata": {},
   "outputs": [],
   "source": [
    "\n",
    "class NeuralNetwork:\n",
    "    def __init__(self,input_size, hidden_size, output_size,epochs=1000, learning_rate=0.5):\n",
    "        self.epochs = epochs\n",
    "        self.learning_rate = learning_rate\n",
    "        self.input_size = input_size\n",
    "        self.hidden_size = hidden_size\n",
    "        self.output_size = output_size\n",
    "        self.init_weights()\n",
    "        self.initialize_bais()\n",
    "        \n",
    "        \n",
    "    def init_weights(self):\n",
    "        self.weights1 = np.random.randn(self.input_size, self.hidden_size)\n",
    "        self.weights2 = np.random.randn(self.hidden_size, self.output_size)\n",
    "        self.bias1 = np.random.randn(1, self.hidden_size)\n",
    "        \n",
    "    def initialize_bais(self):\n",
    "        self.hidden_layer_bais = np.random.randn((1, self.hidden_size))\n",
    "        self.output_layer_bais = np.random.randn((1, self.output_size))\n",
    "    \n",
    "    def sigmoid(self, x):\n",
    "        return 1/(1 + np.exp(-x))\n",
    "    \n",
    "    def sigmoid_derivative(self, x):\n",
    "        return x * (1 - x)\n",
    "    \n",
    "    def forward(self, x):\n",
    "        hidden_layer_input = np.dot(x, self.weights1) + self.hidden_layer_bais\n",
    "        hidden_layer_output = self.sigmoid(hidden_layer_input)\n",
    "        output_layer_input = np.dot(hidden_layer_output, self.weights2) + self.output_layer_bais\n",
    "        output_layer_output = self.sigmoid(output_layer_input)\n",
    "        return output_layer_output\n",
    "    \n",
    "    def backward(self, x, y, output):\n",
    "        # Step 1 work out the error\n",
    "        output_error = y - output\n",
    "        output_layer_delta = self.sigmoid_derivative(output) * output_error\n",
    "\n",
    "        # Step 3: Calculate errors for hidden neurons\n",
    "        hidden_layer_input = np.dot(x, self.weights1) + self.hidden_layer_bais\n",
    "        hidden_layer_output = self.sigmoid(hidden_layer_input)\n",
    "        hidden_layer_error = np.dot(output_layer_delta, self.weights2.T)\n",
    "        hidden_layer_delta = self.sigmoid_derivative(hidden_layer_output) * hidden_layer_error\n",
    "\n",
    "        # Step 2: Update weights for output\n",
    "        self.weights2 += self.learning_rate * np.dot(hidden_layer_output.T, output_layer_delta)\n",
    "        #self.output_layer_bais += self.learning_rate * np.sum(output_layer_delta, axis=0, keepdims=True)\n",
    "\n",
    "        # Step 4: Update weights for hidden\n",
    "        self.weights1 += self.learning_rate * np.dot(x.T, hidden_layer_delta)\n",
    "        #self.hidden_layer_bais += self.learning_rate * np.sum(hidden_layer_delta, axis=0, keepdims=True)\n",
    "        \n",
    "\n",
    "    def train(self, x, y):\n",
    "        self.x = x\n",
    "        self.y = y\n",
    "        for i in range(self.epochs):\n",
    "            output = self.forward(x)\n",
    "            self.backward(x, y, output)\n",
    "            \n",
    "            error = np.mean(0.5 * ((y - output) ** 2))\n",
    "            print(f\"Epoch {i+1}, Error: {error}\")\n",
    "            if error <= 0.001: \n",
    "                print(\"Training stopped as error is below threshold\")\n",
    "                break\n",
    "    \n",
    "    def predict(self, x):\n",
    "        return self.forward(x)\n",
    "        \n",
    "        \n",
    "nn = NeuralNetwork(input_size=4, hidden_size=8, output_size=1, epochs=1000, learning_rate=0.5)\n",
    "nn.train(x_train, y_train)\n",
    "\n",
    "predictions = nn.predict(x_test)\n",
    "mse_test = np.mean(0.5 * ((y_test - predictions) ** 2))\n",
    "print(f\"Test MSE: {mse_test}\")        \n",
    "    \n",
    "        \n",
    "        "
   ]
  }
 ],
 "metadata": {
  "kernelspec": {
   "display_name": "Python 3",
   "language": "python",
   "name": "python3"
  },
  "language_info": {
   "codemirror_mode": {
    "name": "ipython",
    "version": 3
   },
   "file_extension": ".py",
   "mimetype": "text/x-python",
   "name": "python",
   "nbconvert_exporter": "python",
   "pygments_lexer": "ipython3",
   "version": "3.10.12"
  }
 },
 "nbformat": 4,
 "nbformat_minor": 2
}
