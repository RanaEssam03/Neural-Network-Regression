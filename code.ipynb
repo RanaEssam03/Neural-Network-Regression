{
 "cells": [
  {
   "cell_type": "code",
   "execution_count": 27,
   "metadata": {},
   "outputs": [
    {
     "name": "stdout",
     "output_type": "stream",
     "text": [
      "   cement  water  superplasticizer  age  concrete_compressive_strength\n",
      "0   540.0  162.0               2.5   28                          79.99\n",
      "1   540.0  162.0               2.5   28                          61.89\n",
      "2   332.5  228.0               0.0  270                          40.27\n",
      "3   332.5  228.0               0.0  365                          41.05\n",
      "4   198.6  192.0               0.0  360                          44.30\n",
      "Headers: ['cement', 'water', 'superplasticizer', 'age', 'concrete_compressive_strength']\n",
      "Data shape: (700, 5)\n"
     ]
    }
   ],
   "source": [
    "import numpy as np\n",
    "import pandas as pd\n",
    "from sklearn.model_selection import train_test_split\n",
    "from sklearn.preprocessing import StandardScaler\n",
    "\n",
    "features_names = [\n",
    "    'cement', 'water', 'superplasticizer', 'age'   \n",
    "]\n",
    "target_name = 'concrete_compressive_strength'\n",
    "# Load the data\n",
    "data = pd.read_excel('concrete_data.xlsx')\n",
    "\n",
    "print(data.head())\n",
    "# Print the headers (column names)\n",
    "print(\"Headers:\", data.columns.tolist())\n",
    "\n",
    "print(\"Data shape:\", data.shape)\n"
   ]
  },
  {
   "cell_type": "code",
   "execution_count": null,
   "metadata": {},
   "outputs": [
    {
     "name": "stdout",
     "output_type": "stream",
     "text": [
      "(525, 4) (175, 4) (525, 1) (175, 1)\n"
     ]
    },
    {
     "data": {
      "text/plain": [
       "count    700.000000\n",
       "mean      37.642514\n",
       "std       17.607925\n",
       "min        2.330000\n",
       "25%       24.280000\n",
       "50%       36.615000\n",
       "75%       50.120000\n",
       "max       82.600000\n",
       "Name: concrete_compressive_strength, dtype: float64"
      ]
     },
     "execution_count": 28,
     "metadata": {},
     "output_type": "execute_result"
    }
   ],
   "source": [
    "x = data[features_names]\n",
    "y = data[target_name]\n",
    "\n",
    "scaller = StandardScaler()\n",
    "\n",
    "def normalize(data,columns, is_test=False):\n",
    "    if is_test:\n",
    "        data = scaller.transform(data)\n",
    "    else:\n",
    "        data = scaller.fit_transform(data)\n",
    "    return pd.DataFrame(data, columns=columns)\n",
    "      \n",
    "   \n",
    "x_train, x_test, y_train, y_test = train_test_split(x, y, test_size=0.25, random_state=42, shuffle=True)\n",
    "x_train = normalize(x_train, features_names)\n",
    "x_test = normalize(x_test, is_test=True, columns=features_names)\n",
    "y_train = normalize(y_train.values.reshape(-1, 1), columns=[target_name])\n",
    "y_test = normalize(y_test.values.reshape(-1, 1), is_test=True, columns=[target_name])\n",
    "\n",
    "print(x_train.shape, x_test.shape, y_train.shape, y_test.shape)\n"
   ]
  },
  {
   "cell_type": "code",
   "execution_count": 29,
   "metadata": {},
   "outputs": [],
   "source": [
    "\n",
    "class NeuralNetwork:\n",
    "    def __init__(self,input_size, hidden_size, output_size,epochs=100, learning_rate=0.01):\n",
    "        self.epochs = epochs\n",
    "        self.learning_rate = learning_rate\n",
    "        self.input_size = input_size\n",
    "        self.hidden_size = hidden_size\n",
    "        self.output_size = output_size\n",
    "        self.init_weights()\n",
    "        self.initialize_bais()\n",
    "        \n",
    "        \n",
    "    def init_weights(self):\n",
    "        self.weights1 = np.random.randn(self.input_size, self.hidden_size)\n",
    "        self.weights2 = np.random.randn(self.hidden_size, self.output_size)\n",
    "        self.bias1 = np.random.randn(1, self.hidden_size)\n",
    "        \n",
    "    def initialize_bais(self):\n",
    "        self.hidden_layer_bais = np.random.randn((1, self.hidden_size))\n",
    "        self.output_layer_bais = np.random.randn((1, self.output_size))\n",
    "    \n",
    "    def sigmoid(self, x):\n",
    "        return 1/(1 + np.exp(-x))\n",
    "    \n",
    "    def sigmoid_derivative(self, x):\n",
    "        return x * (1 - x)\n",
    "    \n",
    "    def forward(self, x):\n",
    "        hidden_layer_input = np.dot(x, self.weights1) + self.hidden_layer_bais\n",
    "        hidden_layer_output = self.sigmoid(hidden_layer_input)\n",
    "        output_layer_input = np.dot(hidden_layer_output, self.weights2) + self.output_layer_bais\n",
    "        output_layer_output = self.sigmoid(output_layer_input)\n",
    "        return output_layer_output\n",
    "    \n",
    "    def backward(self, x, y, output):\n",
    "        pass #TODO\n",
    "    \n",
    "    def train(self, x, y):\n",
    "        self.x = x\n",
    "        self.y = y\n",
    "        for i in range(self.epochs):\n",
    "            output = self.forward(x)\n",
    "            self.backward(x, y, output)\n",
    "    \n",
    "    def predict(self, x):\n",
    "        return self.forward(x)\n",
    "        \n",
    "        \n",
    "        \n",
    "    \n",
    "        \n",
    "        "
   ]
  }
 ],
 "metadata": {
  "kernelspec": {
   "display_name": "Python 3 (ipykernel)",
   "language": "python",
   "name": "python3"
  },
  "language_info": {
   "codemirror_mode": {
    "name": "ipython",
    "version": 3
   },
   "file_extension": ".py",
   "mimetype": "text/x-python",
   "name": "python",
   "nbconvert_exporter": "python",
   "pygments_lexer": "ipython3",
   "version": "3.12.3"
  }
 },
 "nbformat": 4,
 "nbformat_minor": 2
}
